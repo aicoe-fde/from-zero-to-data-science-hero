{
 "cells": [
  {
   "cell_type": "markdown",
   "metadata": {},
   "source": [
    "# Background\n",
    "\n",
    "Perhaps you've played [Twenty Questions](https://en.wikipedia.org/wiki/Twenty_Questions) before:  it's a game where one player (the *answerer*) thinks of a person, place, or thing, and other players ask yes-or-no questions to guess the object of the answerer's thoughts.  Since the answerer probably knows about a lot of different people and objects, a good strategy for the other players involves devising questions that reduce the space of possible answers as much as possible no matter how they are answered.  \n",
    "\n",
    "Given a labeled collection of examples, you might imagine a technique to [learn a *decision tree*](https://en.wikipedia.org/wiki/Decision_tree_learning) of questions to classify these examples by asking as few questions as possible.  However, you might imagine that such a technique would necessarily be quite dependent on the exact examples on offer.  (In other words,  these techniques are prone to *overfitting*.)  As a simple illustration,  consider the case where your set of example objects was `{ 'ant', 'elephant'}`.  In this case, the question \"is it smaller than a typical adult human\" would enable you to differentiate between examples optimally.   However, that question would be useless if our set of example objects was the set of all domesticated dog breeds.\n",
    "\n",
    "[Random decision forest models](https://en.wikipedia.org/wiki/Random_forest) work by training an *ensemble* of imprecise decision trees that only consider subsets of features or examples and then aggregating the results from the ensemble.  By learning and aggregating an ensemble of trees, random decision forests can be more accurate than individual decision trees *and* are less likely to overfit.  In this notebook, we'll use a random decision forest to classify documents as either \"spam\" (based on food reviews) or \"legitimate\" (based on Jane Austen).\n",
    "\n",
    "We'll begin by loading in the feature vectors which we generated in either [the simple summaries feature extraction notebook](03-feature-engineering-summaries.ipynb) or [the TF-IDF feature extraction notebook](03-feature-engineering-tfidf.ipynb). "
   ]
  },
  {
   "cell_type": "code",
   "execution_count": null,
   "metadata": {},
   "outputs": [],
   "source": [
    "import pandas as pd\n",
    "import os.path\n",
    "\n",
    "features = pd.read_parquet(os.path.join(\"data\", \"features.parquet\"))"
   ]
  },
  {
   "cell_type": "markdown",
   "metadata": {},
   "source": [
    "When doing exploratory analysis, it's often a good idea to inspect your data as a sanity check.  In this case, we'll make sure that the feature vectors we generated in the last notebook have the shape we expect!"
   ]
  },
  {
   "cell_type": "code",
   "execution_count": null,
   "metadata": {},
   "outputs": [],
   "source": [
    "features.sample(5)"
   ]
  },
  {
   "cell_type": "code",
   "execution_count": null,
   "metadata": {
    "scrolled": true
   },
   "outputs": [],
   "source": [
    "from sklearn.ensemble import RandomForestClassifier\n",
    "from sklearn import model_selection\n",
    "\n",
    "train, test = model_selection.train_test_split(features)\n",
    "\n",
    "rfc = RandomForestClassifier(n_estimators=25, random_state=404)"
   ]
  },
  {
   "cell_type": "code",
   "execution_count": null,
   "metadata": {},
   "outputs": [],
   "source": [
    "MAX_FEATURES=512\n",
    "rfc.fit(X=train.iloc[:,2:train.shape[1]], y=train[\"label\"])"
   ]
  },
  {
   "cell_type": "code",
   "execution_count": null,
   "metadata": {},
   "outputs": [],
   "source": [
    "from mlworkflows import plot\n",
    "\n",
    "predictions = rfc.predict(test.iloc[:,2:train.shape[1]])\n",
    "df, chart = plot.binary_confusion_matrix(test[\"label\"], predictions)"
   ]
  },
  {
   "cell_type": "code",
   "execution_count": null,
   "metadata": {},
   "outputs": [],
   "source": [
    "chart"
   ]
  },
  {
   "cell_type": "markdown",
   "metadata": {},
   "source": [
    "We can look at the raw numbers, and proportions of correctly and incorrectly classified items: "
   ]
  },
  {
   "cell_type": "code",
   "execution_count": null,
   "metadata": {},
   "outputs": [],
   "source": [
    "df"
   ]
  },
  {
   "cell_type": "markdown",
   "metadata": {},
   "source": [
    "We can also look at the precision, recall and f1-score for the model. "
   ]
  },
  {
   "cell_type": "code",
   "execution_count": null,
   "metadata": {},
   "outputs": [],
   "source": [
    "from sklearn.metrics import classification_report\n",
    "print(classification_report(test.label.values, predictions))"
   ]
  },
  {
   "cell_type": "markdown",
   "metadata": {},
   "source": [
    "One interesting aspect of random decision forests is that they provide a metric for how important each feature was to the ultimate conclusion.  This is a useful property both for having *explainable models* (i.e., so you can explain to a human why the model made a particular prediction) and for guiding further experiments (i.e., so you can learn more about the real world based on what the model has identified as likely to be correlated with what you're trying to predict)."
   ]
  },
  {
   "cell_type": "code",
   "execution_count": null,
   "metadata": {},
   "outputs": [],
   "source": [
    "l = list(enumerate(rfc.feature_importances_))"
   ]
  },
  {
   "cell_type": "code",
   "execution_count": null,
   "metadata": {},
   "outputs": [],
   "source": [
    "l.sort(key=lambda x: -x[1])\n",
    "l[:20]"
   ]
  },
  {
   "cell_type": "markdown",
   "metadata": {},
   "source": [
    "What these features actually *mean* depends on which feature engineering approach you chose in the last notebook.  In the case of the simple summaries approach, it's fairly straightforward -- we can just take the column names:"
   ]
  },
  {
   "cell_type": "code",
   "execution_count": null,
   "metadata": {},
   "outputs": [],
   "source": [
    "if len(l) < 20:\n",
    "    # the simple summaries have fewer than 20 features\n",
    "    d = dict(enumerate(train.columns[2:]))\n",
    "    for k, v in l[:20]:\n",
    "        print(d[k], v)"
   ]
  },
  {
   "cell_type": "markdown",
   "metadata": {},
   "source": [
    "If you used the simple summaries approach, you'll probably see that `stop_words` is the most important feature.\n",
    "\n",
    "If you used the tf-idf approach, the preceding cell shouldn't have produced any output and we'll need a more involved approach.  Recall that we used [feature hashing](https://en.wikipedia.org/wiki/Feature_hashing) for the tf-idf feature vectors.  Feature hashing has many benefits, but one of the downsides is that hashing is one-way -- we can't go from the entry in the feature vector to the word that produced it.  However, we can do a little extra work to try and reconstruct the words that _might_ have produced such a vector.\n",
    "\n",
    "The size of our feature vectors is smaller than the number of words we might have seen in our corpus of documents, [which means that more than one word will be represented by counts in a given bucket](https://en.wikipedia.org/wiki/Pigeonhole_principle).  But we can construct a list of the words that may have mapped to each bucket by getting a vocabulary for our document corpus and then hashing each word, which we can use to identify which words _may_ have corresponded to the most important features."
   ]
  },
  {
   "cell_type": "code",
   "execution_count": null,
   "metadata": {},
   "outputs": [],
   "source": [
    "if len(l) > 20:\n",
    "    from sklearn.utils.murmurhash import murmurhash3_bytes_s32\n",
    "    from sklearn.feature_extraction.text import CountVectorizer\n",
    "    from collections import defaultdict\n",
    "    \n",
    "    def fhash(v, size = 1024):\n",
    "        return murmurhash3_bytes_s32(v.encode(\"utf-8\"), 0) % size\n",
    "    data = pd.read_parquet(\"data/training.parquet\")\n",
    "    vectorizer = CountVectorizer(token_pattern='(?u)\\\\b[A-Za-z]\\\\w+\\\\b')\n",
    "    vectorizer.fit(data[\"text\"])\n",
    "    d = defaultdict(lambda: [])\n",
    "    for k in vectorizer.vocabulary_.keys():\n",
    "        d[fhash(k)].append(k)\n",
    "    \n",
    "    for k, v in l[:20]:\n",
    "        print(d[k], v)"
   ]
  },
  {
   "cell_type": "markdown",
   "metadata": {},
   "source": [
    "This sort of investigation is useful to see how well our feature count is working in the context of feature hashing:  if we see that an important feature has many apparently-unrelated words (especially if many relatively-common words are in the same bucket), we may want to increase the number of buckets to improve the performance of our model.\n",
    "\n",
    "Finally, we'll want to save the model so that we can use it outside of this notebook."
   ]
  },
  {
   "cell_type": "code",
   "execution_count": null,
   "metadata": {},
   "outputs": [],
   "source": [
    "from mlworkflows import util\n",
    "util.serialize_to(rfc, \"model.sav\")"
   ]
  }
 ],
 "metadata": {
  "kernelspec": {
   "display_name": "Python 3",
   "language": "python",
   "name": "python3"
  },
  "language_info": {
   "codemirror_mode": {
    "name": "ipython",
    "version": 3
   },
   "file_extension": ".py",
   "mimetype": "text/x-python",
   "name": "python",
   "nbconvert_exporter": "python",
   "pygments_lexer": "ipython3",
   "version": "3.6.8"
  }
 },
 "nbformat": 4,
 "nbformat_minor": 2
}
